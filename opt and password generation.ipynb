{
 "cells": [
  {
   "cell_type": "markdown",
   "id": "edd104f7",
   "metadata": {},
   "source": [
    "# GENERATING A 6 DIGIT OTP"
   ]
  },
  {
   "cell_type": "code",
   "execution_count": 6,
   "id": "1ed9759f",
   "metadata": {},
   "outputs": [
    {
     "name": "stdout",
     "output_type": "stream",
     "text": [
      "8833522\n"
     ]
    }
   ],
   "source": [
    "from random import *\n",
    "print(randint(0,9),randint(0,9),randint(0,9),randint(0,9),randint(0,9),randint(0,9),randint(0,9),sep='')\n"
   ]
  },
  {
   "cell_type": "markdown",
   "id": "5aa953f6",
   "metadata": {},
   "source": [
    "or "
   ]
  },
  {
   "cell_type": "code",
   "execution_count": 12,
   "id": "7c3e9b6b",
   "metadata": {},
   "outputs": [
    {
     "name": "stdout",
     "output_type": "stream",
     "text": [
      "443331\n"
     ]
    }
   ],
   "source": [
    "from random import *\n",
    "otp =''\n",
    "for i in range(6):\n",
    "    otp=otp+str(randint(0,9))\n",
    "print(otp)"
   ]
  },
  {
   "cell_type": "markdown",
   "id": "a7f8b6a5",
   "metadata": {},
   "source": [
    "# GENERATING A RANDOM PASSWORD OF 6 LRNGTH WHERE 1,3,5 CHARECTERS ARE ALPHABETS AND 2,4,6 ARE DIGITS"
   ]
  },
  {
   "cell_type": "code",
   "execution_count": 16,
   "id": "0f7e1145",
   "metadata": {},
   "outputs": [
    {
     "name": "stdout",
     "output_type": "stream",
     "text": [
      "T4T0N4\n"
     ]
    }
   ],
   "source": [
    "from random import *\n",
    "alphabets = 'abcdefghijklmnopqrstuvwxyzABCDEFGHIJKLMNOPQRSTUVWXYZ'\n",
    "digits='0123456789'\n",
    "print(choice(alphabets),choice(digits),choice(alphabets),choice(digits),choice(alphabets),choice(digits),sep='')"
   ]
  },
  {
   "cell_type": "markdown",
   "id": "a110b7a1",
   "metadata": {},
   "source": [
    "# # IF INDEDX IS NOT MENTIONED"
   ]
  },
  {
   "cell_type": "code",
   "execution_count": 19,
   "id": "04429495",
   "metadata": {},
   "outputs": [
    {
     "name": "stdout",
     "output_type": "stream",
     "text": [
      "gTljsu\n"
     ]
    }
   ],
   "source": [
    "from random import *\n",
    "alphabets = 'abcdefghijklmnopqrstuvwxyzABCDEFGHIJKLMNOPQRSTUVWXYZ'\n",
    "digits='0123456789'\n",
    "print(choice(alphabets+digits),\n",
    "      choice(digits+alphabets),\n",
    "      choice(alphabets+digits),\n",
    "      choice(digits+alphabets),\n",
    "      choice(alphabets+digits),\n",
    "      choice(digits+alphabets),sep='')"
   ]
  },
  {
   "cell_type": "code",
   "execution_count": null,
   "id": "d3f26359",
   "metadata": {},
   "outputs": [],
   "source": []
  }
 ],
 "metadata": {
  "kernelspec": {
   "display_name": "Python 3 (ipykernel)",
   "language": "python",
   "name": "python3"
  },
  "language_info": {
   "codemirror_mode": {
    "name": "ipython",
    "version": 3
   },
   "file_extension": ".py",
   "mimetype": "text/x-python",
   "name": "python",
   "nbconvert_exporter": "python",
   "pygments_lexer": "ipython3",
   "version": "3.9.13"
  }
 },
 "nbformat": 4,
 "nbformat_minor": 5
}
